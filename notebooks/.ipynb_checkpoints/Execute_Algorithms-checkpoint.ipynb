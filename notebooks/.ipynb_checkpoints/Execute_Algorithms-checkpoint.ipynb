{
 "cells": [
  {
   "cell_type": "code",
   "execution_count": 1,
   "metadata": {},
   "outputs": [],
   "source": [
    "from time import time"
   ]
  },
  {
   "cell_type": "code",
   "execution_count": 2,
   "metadata": {},
   "outputs": [],
   "source": [
    "import pandas as pd"
   ]
  },
  {
   "cell_type": "code",
   "execution_count": 3,
   "metadata": {},
   "outputs": [],
   "source": [
    "import numpy as np"
   ]
  },
  {
   "cell_type": "code",
   "execution_count": 6,
   "metadata": {},
   "outputs": [
    {
     "ename": "ImportError",
     "evalue": "attempted relative import with no known parent package",
     "output_type": "error",
     "traceback": [
      "\u001b[0;31m---------------------------------------------------------------------------\u001b[0m",
      "\u001b[0;31mImportError\u001b[0m                               Traceback (most recent call last)",
      "Input \u001b[0;32mIn [6]\u001b[0m, in \u001b[0;36m<cell line: 1>\u001b[0;34m()\u001b[0m\n\u001b[0;32m----> 1\u001b[0m \u001b[38;5;28;01mfrom\u001b[39;00m \u001b[38;5;21;01m.\u001b[39;00m\u001b[38;5;21;01msrc\u001b[39;00m\u001b[38;5;21;01m.\u001b[39;00m\u001b[38;5;21;01mknap_sack\u001b[39;00m \u001b[38;5;28;01mimport\u001b[39;00m knap_sack\n",
      "\u001b[0;31mImportError\u001b[0m: attempted relative import with no known parent package"
     ]
    }
   ],
   "source": [
    "from .src.knap_sack import knap_sack"
   ]
  },
  {
   "cell_type": "markdown",
   "metadata": {},
   "source": [
    "## Carregamento dos Dados"
   ]
  },
  {
   "cell_type": "markdown",
   "metadata": {},
   "source": [
    "### Funções Auxiliares de Carregmento dados "
   ]
  },
  {
   "cell_type": "code",
   "execution_count": null,
   "metadata": {},
   "outputs": [],
   "source": [
    "def load_data_itens_weights(name:str) -> tuple:\n",
    "  data = pd.DataFrame(\n",
    "        pd.read_csv(\n",
    "        '../data_processados/' + name,\n",
    "        sep=' ',\n",
    "        header=None\n",
    "    )\n",
    "  )\n",
    "  data = data.reset_index()\n",
    "  data = data.rename(columns={data.columns[0]: 'indice', data.columns[1]: \"value\", data.columns[2]: 'weight'})\n",
    "  data = data.sort_values(by='weight')\n",
    "  return data"
   ]
  },
  {
   "cell_type": "code",
   "execution_count": null,
   "metadata": {},
   "outputs": [],
   "source": [
    "def load_data_itens_benefit_by_cust(name:str) -> pd.DataFrame:\n",
    "  dataframe:pd.DataFrame = pd.DataFrame(\n",
    "      pd.read_csv(\n",
    "          '/content/sample_data/'+name,\n",
    "          sep=' ',\n",
    "          header=None\n",
    "      )\n",
    "  )\n",
    "  \n",
    "  values:np.array = dataframe.value\n",
    "  weights:np.array = dataframe.weight\n",
    "  benefit_by_cust_array:np.array = np.divide(values, weights)\n",
    "  benefit_by_cust_array = np.trunc(benefit_by_cust_array)\n",
    "\n",
    "  dataframe['benefit_by_cust'] = benefit_by_cust_array\n",
    "  dataframe = dataframe.sort_values(by='benefit_by_cust')\n",
    "\n",
    "  dataframe = dataframe.reset_index()\n",
    "  dataframe = dataframe.rename(\n",
    "      columns={\n",
    "          dataframe.columns[0]: 'indice', \n",
    "          dataframe.columns[1]: \"value\", \n",
    "          dataframe.columns[2]: 'weight'\n",
    "          }\n",
    "  )\n",
    "  return dataframe"
   ]
  },
  {
   "cell_type": "code",
   "execution_count": null,
   "metadata": {},
   "outputs": [],
   "source": [
    "def load_data_benefit(name:str) -> int:\n",
    "  data:int = 0\n",
    "  with open('../data_processados/' + name, mode='r') as file:\n",
    "    data = int(file.readline())\n",
    "  return data"
   ]
  },
  {
   "cell_type": "code",
   "execution_count": null,
   "metadata": {},
   "outputs": [],
   "source": [
    "def load_data_weight(name:str) -> int:\n",
    "  data = pd.DataFrame(\n",
    "        pd.read_csv(\n",
    "        '../data_processados/' + name,\n",
    "        sep=' ',\n",
    "    )\n",
    "  )\n",
    "\n",
    "  weight:int = int(data.columns[1])\n",
    "  return weight"
   ]
  },
  {
   "cell_type": "code",
   "execution_count": null,
   "metadata": {},
   "outputs": [],
   "source": [
    "def load_data_answer(name:str) -> np.array:\n",
    "  data:np.array = np.array([])\n",
    "  data = np.loadtxt('../data_processados/' + name, delimiter=' ')\n",
    "  \n",
    "  return data"
   ]
  },
  {
   "cell_type": "code",
   "execution_count": null,
   "metadata": {},
   "outputs": [],
   "source": [
    "def load_data_benefit_by_cust(names:pd.DataFrame, lista_data:list) -> list:\n",
    "    for _, i in names.iterrows():\n",
    "        lista_data.append(\n",
    "            [\n",
    "                load_data_itens_benefit_by_cust(i.input_file),\n",
    "                load_data_weight(i.input_file),\n",
    "                load_data_benefit(i.output_file),\n",
    "                load_data_answer(i.answer_file)\n",
    "            ]\n",
    "        )\n",
    "    return lista_data"
   ]
  },
  {
   "cell_type": "code",
   "execution_count": null,
   "metadata": {},
   "outputs": [],
   "source": [
    "def load_data_minimu_weights(names:pd.DataFrame, lista_data:list) -> list:\n",
    "    for _, i in names.iterrows():\n",
    "        lista_data.append(\n",
    "            [\n",
    "                load_data_itens_weights(i.input_file),\n",
    "                load_data_weight(i.input_file),\n",
    "                load_data_benefit(i.output_file),\n",
    "                load_data_answer(i.answer_file)\n",
    "            ]\n",
    "        )\n",
    "    return lista_data"
   ]
  },
  {
   "cell_type": "code",
   "execution_count": null,
   "metadata": {},
   "outputs": [],
   "source": [
    "name_file:pd.DataFrame = pd.DataFrame(\n",
    "    pd.read_csv(\n",
    "        '../data_pre_processados/name_file.csv',\n",
    "        sep=' ',\n",
    "    )\n",
    ")"
   ]
  },
  {
   "cell_type": "markdown",
   "metadata": {},
   "source": [
    "### Itens usados para o Carregamento dos Dados"
   ]
  },
  {
   "cell_type": "code",
   "execution_count": null,
   "metadata": {},
   "outputs": [],
   "source": [
    "lista_data_file_benefit_by_cust:list = []"
   ]
  },
  {
   "cell_type": "code",
   "execution_count": null,
   "metadata": {},
   "outputs": [],
   "source": [
    "lista_data_file_by_weights:list = []"
   ]
  },
  {
   "cell_type": "code",
   "execution_count": null,
   "metadata": {},
   "outputs": [],
   "source": [
    "lista_data_file_benefit_by_cust = load_data_benefit_by_cust(name_file, lista_data_file_benefit_by_cust)"
   ]
  },
  {
   "cell_type": "code",
   "execution_count": null,
   "metadata": {},
   "outputs": [],
   "source": [
    "load_data_file_by_weights = load_data_minimu_weights(name_file, lista_data_file_by_weights)"
   ]
  },
  {
   "cell_type": "markdown",
   "metadata": {},
   "source": [
    "## Execuçaõ do Algoritmos"
   ]
  },
  {
   "cell_type": "markdown",
   "metadata": {},
   "source": [
    "### Funções Auxiliares de Execução do Algoritmos"
   ]
  },
  {
   "cell_type": "markdown",
   "metadata": {},
   "source": [
    "#### Função de Execução do Algoritmo Guloso"
   ]
  },
  {
   "cell_type": "code",
   "execution_count": null,
   "metadata": {},
   "outputs": [],
   "source": [
    "def execute_by_epoch_g_m(epoch:int, data_op:list) -> tuple:\n",
    "  start_time:float = 0.0\n",
    "  predict_algorithm:list = []\n",
    "  p_answer:pd.DataFrame = pd.DataFrame({})\n",
    "  time_execute_by_greedy_algorithm:list = []\n",
    "  for _ in range(epoch):\n",
    "    print(\"Epoch\", _)\n",
    "    for data in data_op:\n",
    "      k_s_algorithm_greedy:knap_sack = knap_sack(data[0].shape[0], data[1])\n",
    "      start_time = time()\n",
    "      p_answer = k_s_algorithm_greedy.by_minimu_weights(data[1], data[0])\n",
    "      time_execute_by_greedy_algorithm.append(\n",
    "          time() - start_time\n",
    "          )\n",
    "      predict_algorithm.append(\n",
    "          p_answer\n",
    "      )\n",
    "\n",
    "  return time_execute_by_greedy_algorithm, predict_algorithm"
   ]
  },
  {
   "cell_type": "code",
   "execution_count": null,
   "metadata": {},
   "outputs": [],
   "source": [
    "def execute_by_epoch_g_bc(epoch:int, data_op:list) -> tuple:\n",
    "  start_time:float = 0.0\n",
    "  time_execute:list = []\n",
    "  predict_algorithm:list = []\n",
    "  p_answer:pd.DataFrame = pd.DataFrame({})\n",
    "  \n",
    "  for _ in range(epoch):\n",
    "    print(\"Epoch\", _)\n",
    "    for data in data_op:\n",
    "      k_s_algorithm_greedy:knap_sack = knap_sack(data[0].shape[0], data[1])\n",
    "      start_time = time()\n",
    "      p_answer = k_s_algorithm_greedy.by_benefit_cust(data[0])\n",
    "      time_execute.append(\n",
    "          time() - start_time\n",
    "          )\n",
    "      predict_algorithm.append(\n",
    "          p_answer\n",
    "      )\n",
    "\n",
    "  return time_execute, predict_algorithm"
   ]
  },
  {
   "cell_type": "code",
   "execution_count": null,
   "metadata": {},
   "outputs": [],
   "source": [
    "def execute_by_epoch_d(epoch:int, data_op:list) -> tuple:\n",
    "    p_answer:int = 0\n",
    "    start_time:float = 0.0\n",
    "    time_execute:list = []\n",
    "    predict_algorithm:pd.DataFrame = pd.DataFrame({})\n",
    "  \n",
    "    for _ in range(epoch):\n",
    "        print(\"Epoch\", _)\n",
    "        for data in data_op:\n",
    "            algorithm_dinamic:knap_sack = knap_sack(data[0].shape[0], data[1])        \n",
    "            start_time = time()\n",
    "            p_answer = algorithm_dinamic.by_benefit_cust_with_table(\n",
    "                data[0]\n",
    "            )\n",
    "\n",
    "            time_execute.append(\n",
    "                time() - start_time\n",
    "            )\n",
    "\n",
    "            predict_algorithm.append(\n",
    "                p_answer\n",
    "            )\n",
    "  \n",
    "    return time_execute, predict_algorithm"
   ]
  },
  {
   "cell_type": "markdown",
   "metadata": {},
   "source": [
    "#### Execuçãos dos algoritmos"
   ]
  },
  {
   "cell_type": "code",
   "execution_count": null,
   "metadata": {},
   "outputs": [],
   "source": [
    "pgm:tuple = execute_by_epoch_g_m(10, lista_data_file_by_weights)"
   ]
  },
  {
   "cell_type": "code",
   "execution_count": null,
   "metadata": {},
   "outputs": [],
   "source": [
    "pgbc:tuple = execute_by_epoch_g_bc(10, lista_data_file_benefit_by_cust)"
   ]
  },
  {
   "cell_type": "code",
   "execution_count": null,
   "metadata": {},
   "outputs": [],
   "source": [
    "pdwt:tuple = execute_by_epoch_d(10, lista_data_file_benefit_by_cust)"
   ]
  }
 ],
 "metadata": {
  "kernelspec": {
   "display_name": "Python 3 (ipykernel)",
   "language": "python",
   "name": "python3"
  },
  "language_info": {
   "codemirror_mode": {
    "name": "ipython",
    "version": 3
   },
   "file_extension": ".py",
   "mimetype": "text/x-python",
   "name": "python",
   "nbconvert_exporter": "python",
   "pygments_lexer": "ipython3",
   "version": "3.10.4"
  }
 },
 "nbformat": 4,
 "nbformat_minor": 2
}
