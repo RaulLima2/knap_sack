{
 "cells": [
  {
   "cell_type": "markdown",
   "id": "157f4391",
   "metadata": {},
   "source": [
    "# Analíse dos Resultados"
   ]
  },
  {
   "cell_type": "markdown",
   "id": "fe31ff4f",
   "metadata": {},
   "source": [
    "##  Esperados x  Gerados"
   ]
  },
  {
   "cell_type": "code",
   "execution_count": null,
   "id": "c0336e08",
   "metadata": {},
   "outputs": [],
   "source": []
  },
  {
   "cell_type": "markdown",
   "id": "076ab2d1",
   "metadata": {},
   "source": [
    "### Analíse de Erro"
   ]
  },
  {
   "cell_type": "code",
   "execution_count": null,
   "id": "ba64ef65",
   "metadata": {},
   "outputs": [],
   "source": []
  },
  {
   "cell_type": "markdown",
   "id": "f82bdb11",
   "metadata": {},
   "source": [
    "##  Tempo de Execução dos Algoritmos"
   ]
  },
  {
   "cell_type": "code",
   "execution_count": null,
   "id": "4791c2db",
   "metadata": {},
   "outputs": [],
   "source": []
  }
 ],
 "metadata": {
  "kernelspec": {
   "display_name": "Python 3 (ipykernel)",
   "language": "python",
   "name": "python3"
  },
  "language_info": {
   "codemirror_mode": {
    "name": "ipython",
    "version": 3
   },
   "file_extension": ".py",
   "mimetype": "text/x-python",
   "name": "python",
   "nbconvert_exporter": "python",
   "pygments_lexer": "ipython3",
   "version": "3.10.4"
  }
 },
 "nbformat": 4,
 "nbformat_minor": 5
}
